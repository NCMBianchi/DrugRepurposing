{
 "cells": [
  {
   "cell_type": "markdown",
   "id": "0bc6c993-dbce-4524-8b36-406460745d28",
   "metadata": {},
   "source": [
    "<table width=\"100%\">\n",
    "<tr>\n",
    "    <td>\n",
    "        <h1 style=\"text-align: left; font-size:300%;\">\n",
    "            DrugRepurposing\n",
    "        </h1>\n",
    "        <h1 style=\"text-align: left; font-size:150%;\">\n",
    "            Automated drug repurposing workflow for rare diseases – using Flask, Monarch API, DGIdb API and XGboost\n",
    "        </h1> \n",
    "    </td>\n",
    "    <td width=\"33%\">\n",
    "        <div style=\"text-align: right\">\n",
    "            <b> A GitHub repository by Niccolò Bianchi</b> <br>\n",
    "            <a href=\"https://github.com/NCMBianchi/DrugRepurposing\">github.com/NCMBianchi/DrugRepurposing</a><br>\n",
    "            forked from Carmen Reep's and Nuria Queralt Rosinach's works<br>\n",
    "        </div>\n",
    "    </td>\n",
    "</tr>\n",
    "</table>"
   ]
  },
  {
   "cell_type": "markdown",
   "id": "22f2a68e-57e0-45fb-893a-e7ae99f2f15d",
   "metadata": {},
   "source": [
    "This notebook is meant to implement variations of the functions originally stored in the 'Monarch.py' file, in order to solve some of the issues that do not allow the tool to run."
   ]
  },
  {
   "cell_type": "markdown",
   "id": "b6ac2e53-034b-4807-8264-d55958183739",
   "metadata": {},
   "source": [
    "Once a new pipeline is developed, a new version of the 'Monarch.py' file will be implemented. Step by step all other parts of the entire pipeline involving steps in 'DGIdb.py', 'drugsimilarity.py' and so on will be tested here as well."
   ]
  },
  {
   "cell_type": "markdown",
   "id": "7684765f-bec2-470e-97e3-1ade0d1d95fc",
   "metadata": {},
   "source": [
    "![](./PIPELINE_images/github_header.png)"
   ]
  },
  {
   "cell_type": "markdown",
   "id": "660c7b04-fb3f-4327-b6cf-fe6e0baf3d9e",
   "metadata": {},
   "source": [
    "## 1. SETUP"
   ]
  },
  {
   "cell_type": "markdown",
   "id": "e39295d5-afa3-450e-851b-dcd0a50bac45",
   "metadata": {},
   "source": [
    "The first step just returns the kernel and Python version to be sure about using the appropriate one -while also setting up some basic logging functions."
   ]
  },
  {
   "cell_type": "code",
   "execution_count": 1,
   "id": "ac4d7036-c202-4162-844f-fdb50f2866c8",
   "metadata": {},
   "outputs": [
    {
     "name": "stdout",
     "output_type": "stream",
     "text": [
      "Python kernel: /Users/ncmbianchi/miniconda3/bin/python3.11\n",
      "Python version: 3.11.9\n"
     ]
    }
   ],
   "source": [
    "import sys,os,platform,datetime,logging,builtins,time\n",
    "python_executable = sys.executable\n",
    "python_version = platform.python_version()\n",
    "\n",
    "# timestamp\n",
    "today = datetime.date.today()\n",
    "date_str = today.strftime('%Y-%m-%d')\n",
    "curr_year = int(str(today)[:4])\n",
    "\n",
    "# directory set-up\n",
    "base_data_directory = os.path.join(os.getcwd(), 'drugapp', 'data')\n",
    "today_directory = os.path.join(base_data_directory, date_str)\n",
    "os.makedirs(today_directory, exist_ok=True)\n",
    "disease_name_label = None\n",
    "## just a placeholder: the aim is to replace it after running run_monarch_api()\n",
    "## on the first seed\n",
    "\n",
    "# logging configuration\n",
    "platform_filename = \"running_platform.txt\"\n",
    "platform_file_path = os.path.join(today_directory, platform_filename)\n",
    "log_filename = \"logfile.log\"\n",
    "log_file_path = os.path.join(today_directory, log_filename)\n",
    "logger = logging.getLogger()\n",
    "logger.setLevel(logging.DEBUG)  # highest level to capture all logs\n",
    "file_handler = logging.FileHandler(log_file_path)\n",
    "file_handler.setLevel(logging.DEBUG)\n",
    "file_handler.setFormatter(logging.Formatter('%(asctime)s - %(name)s - %(levelname)s - %(message)s'))\n",
    "console_handler = logging.StreamHandler()\n",
    "console_handler.setLevel(logging.ERROR)  # only log errors to the console\n",
    "console_handler.setFormatter(logging.Formatter('%(asctime)s - %(name)s - %(levelname)s - %(message)s'))\n",
    "if not logger.handlers:\n",
    "    logger.addHandler(file_handler)\n",
    "    logger.addHandler(console_handler)\n",
    "\n",
    "def current_function_name():\n",
    "    return inspect.currentframe().f_back.f_code.co_name\n",
    "\n",
    "# 'w' instead of 'a' here to always overwrite when making a new run\n",
    "with open(platform_file_path, 'w') as file:\n",
    "    file.write(f\"Python kernel: {python_executable}\\n\")\n",
    "    file.write(f\"Python version: {python_version}\\n\")\n",
    "    file.write(\"\\n\")\n",
    "\n",
    "print(\"Python kernel:\", python_executable)\n",
    "print(\"Python version:\", python_version)"
   ]
  },
  {
   "cell_type": "markdown",
   "id": "c60c4091-a566-48ff-bd2f-4eec828c4107",
   "metadata": {},
   "source": [
    "The **list of packages** along with the version used is stored in the same *.txt* file where kernel location and version of Python written earlier."
   ]
  },
  {
   "cell_type": "code",
   "execution_count": 2,
   "id": "ecb62329-0a14-4137-acc7-92ce8aee35ae",
   "metadata": {},
   "outputs": [],
   "source": [
    "# empty set to store the packages that will be imported:\n",
    "imported_packages = {}\n",
    "from importlib.metadata import version\n",
    "from importlib import import_module\n",
    "\n",
    "def import_and_log(*args):\n",
    "    \"\"\"\n",
    "    Import a package or a component from a package and log it along \n",
    "    with its version immediately.\n",
    "    \"\"\"\n",
    "    try:\n",
    "        # Importing based on the number of arguments:\n",
    "        # if 1 argument, 'import <arg_1>' (whole package)\n",
    "        if len(args) == 1:\n",
    "            package_name = args[0]\n",
    "            package = import_module(package_name)\n",
    "            imported_packages[package_name] = package\n",
    "            setattr(builtins, package_name, package)  # globally available\n",
    "            msg = f\"Package '{package_name}' imported.\"\n",
    "        # if 2 arguments, 'from <arg_1> import <arg_2>' (component from a package)\n",
    "        elif len(args) == 2:\n",
    "            package_name, component_name = args\n",
    "            package = import_module(package_name)\n",
    "            component = getattr(package, component_name)\n",
    "            imported_packages[f\"{package_name}.{component_name}\"] = component\n",
    "            setattr(builtins, component_name, component)  # globally available\n",
    "            msg = f\"Component '{component_name}' from package '{package_name}' imported.\"\n",
    "        else:\n",
    "            raise ValueError(\"Invalid number of arguments passed to import_and_log().\")\n",
    "        \n",
    "        print(msg)  # Print import confirmation\n",
    "        log_imports_and_versions(msg)  # Log the import and its version\n",
    "        \n",
    "    except ImportError as e:\n",
    "        print(f\"Failed to import {args}. Error: {e}\")\n",
    "    except AttributeError as e:\n",
    "        print(f\"Component '{args[1]}' not found in package '{args[0]}'. Error: {e}\")\n",
    "\n",
    "def log_imports_and_versions(message):\n",
    "    \"\"\"\n",
    "    Append import messages and version information of the most\n",
    "    recently imported package to a file.\n",
    "    \"\"\"\n",
    "    with open(platform_file_path, 'a') as file:\n",
    "        # Write the message about what was just imported\n",
    "        file.write(f\"{message} \")\n",
    "        \n",
    "        # Identify the last imported package or component\n",
    "        if imported_packages:\n",
    "            full_name = list(imported_packages.keys())[-1]  # Get the last key in the dictionary\n",
    "            package_name = full_name.split('.')[0]  # Only use the top-level package name for version retrieval\n",
    "            try:\n",
    "                pkg_version = version(package_name)\n",
    "                version_info = f\"(version: {pkg_version})\"\n",
    "            except Exception as e:\n",
    "                version_info = f\"(version not found for {package_name}: {e})\"\n",
    "            \n",
    "            # Write the latest version info to the file and print it\n",
    "            file.write(f\"{version_info}\\n\\n\")\n",
    "            print(version_info)"
   ]
  },
  {
   "cell_type": "code",
   "execution_count": 3,
   "id": "e3bcb35d-3231-4ada-a26e-ab317b87becf",
   "metadata": {},
   "outputs": [
    {
     "name": "stdout",
     "output_type": "stream",
     "text": [
      "Package 'pandas' imported.\n",
      "(version: 2.1.2)\n",
      "Package 'requests' imported.\n",
      "(version: 2.31.0)\n",
      "Package 'networkx' imported.\n",
      "(version: 3.1)\n",
      "Package 'matplotlib' imported.\n",
      "(version: 3.8.0)\n",
      "Component 'get_client' from package 'biothings_client' imported.\n",
      "(version: 0.3.1)\n",
      "Component 'tqdm' from package 'tqdm' imported.\n",
      "(version: 4.66.2)\n",
      "Component 'Chem' from package 'rdkit' imported.\n",
      "(version: 2024.3.1)\n",
      "Component 'RDLogger' from package 'rdkit' imported.\n",
      "(version: 2024.3.1)\n",
      "Component 'DataStructs' from package 'rdkit' imported.\n",
      "(version: 2024.3.1)\n"
     ]
    }
   ],
   "source": [
    "import json  # to save .json files returned by the API\n",
    "import logging  # to check for running variables\n",
    "import inspect  # to chec for running functions\n",
    "import shutil  # to properly copy and rename files in run_monarch_mock()\n",
    "import ast  # for syntax trees in 'DGIdb.py' steps\n",
    "from unittest.mock import Mock  # to reverse requests.Response()\n",
    "\n",
    "# only non-core packages are loaded with the 'import_and_log()' function:\n",
    "import_and_log('pandas')\n",
    "import_and_log('requests')\n",
    "import_and_log('networkx')  # for ' Monarch.py' to plot the network\n",
    "import_and_log('matplotlib')  # for ' Monarch.py' to plot the network\n",
    "import_and_log('biothings_client','get_client')  # check if still needed (in older version)\n",
    "import_and_log('tqdm','tqdm')  # check if still needed (in older version)\n",
    "import_and_log('rdkit','Chem')  # for 'drugsimilarity.py'\n",
    "import_and_log('rdkit','RDLogger')  # for 'drugsimilarity.py'\n",
    "import_and_log('rdkit','DataStructs')  # for 'drugsimilarity.py'\n",
    "\n",
    "# for ease of use, some packages are reloaded with an alias\n",
    "import pandas as pd\n",
    "import networkx as nx\n",
    "import matplotlib.pyplot as plt\n",
    "\n",
    "# these submodules are imported normally as the main versions are already logged,\n",
    "# and importlib.import_module() doesn't handle well submodules\n",
    "from rdkit.Chem import AllChem"
   ]
  },
  {
   "cell_type": "markdown",
   "id": "f8c86220-d48a-4678-9c4b-08a1d30e9897",
   "metadata": {},
   "source": [
    "## 2. MONARCH.py"
   ]
  },
  {
   "cell_type": "markdown",
   "id": "6a8fa428-842b-405d-9e96-8b5dc1bcdfbd",
   "metadata": {},
   "source": [
    "First let's set-up the function used to make API calls.\n",
    "\n",
    "**Paths are currently set starting outside the drugapp directory, while later when implemented as .py scripts, paths will be adapted a bit.**"
   ]
  },
  {
   "cell_type": "code",
   "execution_count": 4,
   "id": "eca26c13-60d6-4cf2-9c3e-3e24434ee670",
   "metadata": {},
   "outputs": [],
   "source": [
    "def hit_monarch_api(seed = 'MONDO:0007739', rows = 2000):\n",
    "    \"\"\"\n",
    "    Originally part of NQR's \"bioknowledgeReviewer\" tool.\n",
    "    \n",
    "    This function performs API calls to Monarch to retrieve 'OUT' and 'IN' edges from a query node.\n",
    "    It retrieves entities plus associations via the Monarch Initiative new V3 API (2023 onward).\n",
    "    \n",
    "    The original version used the older Biolink API, no longer supported:\n",
    "    https://api-biolink.monarchinitiative.org/api/association\n",
    "     \n",
    "    Moreover:\n",
    "       - Biolink supported 'OMIM:' URIs, V3 doesn't and 'MONDO:' is used\n",
    "       - Biolink required 'association/____', V3 requires 'association?____='\n",
    "       - Biolink supported the \":\" character, V3 requires its ASCII version (i.e.%3A)\n",
    "       \n",
    "    It hits two endpoints:\n",
    "       - association?subject= (for 'OUT' edges)\n",
    "       - association?object= (for 'IN' edges)\n",
    "    It returns 'OUT' and 'IN' edges.\n",
    "\n",
    "    :param node: node ID to query (string). Default: 'MONDO:0007739' (=Huntington Disease).\n",
    "    :param rows: the maximum number of results to return (integer). Default: 2000.\n",
    "    :return: two API response objects: 'OUT' and 'IN' response objects, in this order.\n",
    "    \"\"\"\n",
    "    \n",
    "    logging.info(f\"NOW RUNNING: {current_function_name()} with seed {seed}.\")\n",
    "\n",
    "    # API address\n",
    "    biolink = 'https://api-v3.monarchinitiative.org/v3/api/association'  #V3\n",
    "    seed_new = seed.split(':')\n",
    "    seed_call = seed_new[0]+'%3A'+seed_new[1]\n",
    "\n",
    "    # parameters\n",
    "    parameters = {'fl_excludes_evidence': False, 'rows': rows}\n",
    "\n",
    "    # OUT edges API call  ('?subject=')\n",
    "    out_url = f'{biolink}?subject={seed_call}'\n",
    "    r_out = requests.get(out_url, params=parameters)  # API call\n",
    "    logging.info(f\"Out edges request URL: {out_url} with parameters {parameters}\")\n",
    "    logging.info(f\"Out edges response status: {r_out.status_code}\")\n",
    "\n",
    "    # IN edges API call (?object=)\n",
    "    in_url = f'{biolink}?object={seed_call}'\n",
    "    r_in = requests.get(in_url, params=parameters)  # API call\n",
    "    logging.info(f\"In edges request URL: {in_url} with parameters {parameters}\")\n",
    "    logging.info(f\"In edges response status: {r_in.status_code}\")\n",
    "\n",
    "    # Error Handling for API responses\n",
    "    if not r_out.ok or not r_in.ok:\n",
    "        error_message = f\"Error fetching data for seed {seed}: OUT status {r_out.status_code}, IN status {r_in.status_code}\"\n",
    "        logging.error(error_message)\n",
    "        # Handle error appropriately, could raise an exception or return an error code\n",
    "        raise Exception(error_message)\n",
    "    \n",
    "    # (eventually) create disease directory\n",
    "    r_out_json = r_out.json()\n",
    "    r_in_json = r_in.json()\n",
    "    if seed == input_seed[0]:\n",
    "        if 'items' in r_out_json and r_out_json['items']:   # identify 'name' and 'id'\n",
    "            disease_name = r_out_json['items'][0]['subject_label']\n",
    "            disease_id = r_out_json['items'][0]['subject']\n",
    "        else:\n",
    "            logging.warning(\"Warning: 'associations' key not found in response or no associations present.\")\n",
    "            return None, None\n",
    "        disease_directory = os.path.join(today_directory, f'{disease_name} ({date_str})')\n",
    "        os.makedirs(disease_directory, exist_ok=True)  # the date is repeated just for archival purposes\n",
    "        disease_id_file_path = os.path.join(disease_directory, 'disease_id.txt')\n",
    "        with open(disease_id_file_path, \"w\") as text_file:\n",
    "            \n",
    "            # store 'disease_name' and 'disease_id'\n",
    "            text_file.write(f\"{disease_id};{disease_name}\\n\")\n",
    "            \n",
    "            # store the list of subject closure for the input_seed\n",
    "            # (information on the ontology of the disease)\n",
    "            text_file.write(f\"Subject closure:{r_out_json['items'][0]['subject_closure']}\")\n",
    "            logging.info(f\"Information on the disease saved to {disease_id_file_path}\")\n",
    "            \n",
    "    else:\n",
    "        disease_id = disease_id_label\n",
    "        disease_name = disease_name_label\n",
    "        disease_directory = os.path.join(today_directory, f'{disease_name} ({date_str})')\n",
    "    monarch_directory = os.path.join(disease_directory, 'monarch')\n",
    "    seed_new = seed.split(':')\n",
    "    seed_dir = seed_new[0]+'_'+seed_new[1]\n",
    "    seed_directory = os.path.join(monarch_directory, seed_dir)\n",
    "    os.makedirs(seed_directory, exist_ok=True)\n",
    "    \n",
    "    # store OUT .json file\n",
    "    out_file_path = os.path.join(seed_directory, f'{seed_dir}_api_response_OUT.json')\n",
    "    if r_out.ok:\n",
    "        with open(out_file_path, 'w') as json_file:\n",
    "            json.dump(r_out_json, json_file)\n",
    "        logging.info(f\"API response saved to {out_file_path}\")\n",
    "    else:\n",
    "        logging.error(f\"Failed to fetch OUT edges: {r_out.status_code} - {r_out.reason}\")\n",
    "\n",
    "    # store IN .json file\n",
    "    in_file_path = os.path.join(seed_directory, f'{seed_dir}_api_response_IN.json')\n",
    "    if r_in.ok:\n",
    "        with open(in_file_path, 'w') as json_file:\n",
    "            json.dump(r_in_json, json_file)\n",
    "        logging.info(f\"API response saved to {in_file_path}\")\n",
    "    else:\n",
    "        logging.error(f\"Failed to fetch IN edges: {r_in.status_code} - {r_in.reason}\")\n",
    "    \n",
    "    return r_out, r_in, disease_id, disease_name"
   ]
  },
  {
   "cell_type": "code",
   "execution_count": null,
   "id": "8ec29ea1-3fad-4be6-b8d4-01ae67ce90e6",
   "metadata": {},
   "outputs": [],
   "source": [
    "input_seed = ['MONDO:0007739']\n",
    "r_out, r_in, disease_id_label, disease_name_label = hit_monarch_api()"
   ]
  },
  {
   "cell_type": "markdown",
   "id": "66ee9282-03f5-459d-bee1-e8ad57c8b714",
   "metadata": {},
   "source": [
    "The test-run above uses a hardcoded variable for 'MONDO:0007739' URI identifier for Huntington's disease –but let's assume that in the actual pipeline it uses variable ```input``` provided by the flaskApp.\n",
    "\n",
    "**Status response '200' means that the http-request went fine.**\n",
    "\n",
    "Files are stored according to this tree like structure:"
   ]
  },
  {
   "cell_type": "markdown",
   "id": "7925a534-44fd-441b-bf63-bdd447b4648f",
   "metadata": {},
   "source": [
    "![](./PIPELINE_images/json_tree.png)"
   ]
  },
  {
   "cell_type": "code",
   "execution_count": null,
   "id": "64922425-2c3e-4402-9786-0ea0019428d1",
   "metadata": {},
   "outputs": [],
   "source": [
    "r_out, r_in, disease_id_label, disease_name_label = hit_monarch_api('HGNC:4851')"
   ]
  },
  {
   "cell_type": "markdown",
   "id": "639c9905-7e53-4a07-8a4b-bd42cc3b6c62",
   "metadata": {},
   "source": [
    "The run above is just to test that any subsequent run of ```hit_monarch_api()``` doesn't create new subdirectories -if in the same pipeline- while instead storing .json files within the same **.../YYYY-MM-DD/disease YYYY-MM-DD/monarch** directory.\n",
    "\n",
    "Variables ```disease_id_label``` and ```disease_name_label``` are always returned in order to store as global variables information required for path buildings in some of the functions.\n",
    "\n",
    "Objects ```r_out``` and ```r_in``` that are returned contain the .json output as a single string."
   ]
  },
  {
   "cell_type": "code",
   "execution_count": null,
   "id": "22afdf6a-939a-471a-98fd-a6df9dd6ee9c",
   "metadata": {},
   "outputs": [],
   "source": [
    "print(f\"print(r_out.text):{r_out}\")  # only displays the http status code"
   ]
  },
  {
   "cell_type": "code",
   "execution_count": null,
   "id": "7a9ff01b-b3d1-458d-bdc5-38ef745d1f2c",
   "metadata": {},
   "outputs": [],
   "source": [
    "print(f\"print(r_out.text[:200]):{r_out.text[:500]}\")  # displays the first 500 lines in the .json file"
   ]
  },
  {
   "cell_type": "markdown",
   "id": "3da6e4f1-f737-4fc7-a104-079811b073f1",
   "metadata": {},
   "source": [
    "Then let's define the function that builds the first layer of neighbours and relations: my intention is to make a new version that can handle both one single seed (as in the first layer) or a list of seeds (as in the second and third layer), while also checking if the call for those given sees has already been run: if not, it runs ```hit_monarch_api()``` again; otherwise it retrieves data from the directory corresponding with that seed ID."
   ]
  },
  {
   "cell_type": "code",
   "execution_count": 5,
   "id": "9f95ef48-c118-4f1b-8d10-f64f3a14a95d",
   "metadata": {},
   "outputs": [],
   "source": [
    "def unique_elements(nonUnique_list):\n",
    "    \"\"\"\n",
    "    Short function that remove duplicate elements.\n",
    "    If the list contains nodes, it will simply convert it into a set{}.\n",
    "    If the list contains edges, it will remove also edges where subject and object\n",
    "    are inverted, therefore not being recognised as the same by Python.\n",
    "\n",
    "    :param nonUnique_list: biomedical entities list, where each entity is either a\n",
    "    node or an edge in association networks\n",
    "    :return: list of the same biomedical entities without duplicates\n",
    "    \"\"\"\n",
    "\n",
    "    logging.info(f\"NOW RUNNING: {current_function_name()} with seed list {nonUnique_list[:2]}.\")\n",
    "    logging.info(f\"Initial list size: {len(nonUnique_list)}\")\n",
    "    \n",
    "    # if nonUnique_list is empty\n",
    "    if not nonUnique_list:\n",
    "        return []\n",
    "    \n",
    "    if isinstance(nonUnique_list[0], dict):\n",
    "        # Handle list of nodes\n",
    "        nodes_set = set(tuple(sorted(node.items())) for node in nonUnique_list)\n",
    "        unique_list = [dict(node) for node in nodes_set]\n",
    "\n",
    "    elif len(nonUnique_list[0]) == 4 and isinstance(nonUnique_list[0], list):\n",
    "        # Handle list of edges\n",
    "        unique_list = []\n",
    "        seen_edges = set()\n",
    "        for edge in nonUnique_list:\n",
    "            subj_id = edge[0]['id']\n",
    "            obj_id = edge[2]['id']\n",
    "            norm_edge = tuple(sorted([subj_id, obj_id]))\n",
    "            if norm_edge not in seen_edges:\n",
    "\n",
    "                # locally store the simplified/normalised edge for parsing\n",
    "                seen_edges.add(norm_edge)\n",
    "\n",
    "                # return the actual full edge\n",
    "                unique_list.append(edge)\n",
    "                \n",
    "    else:\n",
    "        raise ValueError(\"Input is not recognised.\")\n",
    "\n",
    "    logging.info(f\"Final list size: {len(unique_list)} ({len(nonUnique_list)-len(unique_list)} removed)\")\n",
    "    \n",
    "    return unique_list\n",
    "\n",
    "\n",
    "def json_reverse(json_dict):\n",
    "    \"\"\"\n",
    "    Short function that converts calls turned into JSON files by the json() function\n",
    "    into a request.Response object\n",
    "\n",
    "    :param seed_list: JSON response stored as a dictionary\n",
    "    :return: Mock object mimicking requests.Response with the provided JSON data.\n",
    "    \"\"\"\n",
    "    \n",
    "    json_file = Mock()\n",
    "    json_file.json.return_value = json_dict\n",
    "    json_file.status_code = 200\n",
    "    json_file.ok = True\n",
    "\n",
    "    return json_file\n",
    "\n",
    "\n",
    "def get_neighbours(seed_list,layer):\n",
    "    \"\"\"\n",
    "    Originally part of NQR's \"bioknowledgeReviewer\" tool.\n",
    "    \n",
    "    This function parses through the .json files obtained from the hit_monarch_api()\n",
    "    function, in order to obtain nodes that are related to any seed provided.\n",
    "    \n",
    "    If the API call for a given seed has already been run –and therefore a directory\n",
    "    named with the same URI is present in\n",
    "    ~/drugapp/data/YYYY-MM-DD/disease YYYY-MM-DD/monarch– then relevant information\n",
    "    are fetched from the already locally stored 'URI_api_response_OUT.json' and\n",
    "    'URI_api_response_IN.json' files. This allows for a reduced overhead.\n",
    "\n",
    "    Information regarding subject, relation and object for both the 'OUT' and 'IN' calls\n",
    "    are then stored in a table with a noSQL approach (?).\n",
    "\n",
    "    :param seed_list: biomedical entities list, where each entity is a URI\n",
    "    identifier string such as 'MONDO:0007739' or 'HGNC:4851'\n",
    "    :return: neighbours list\n",
    "    \"\"\"\n",
    "\n",
    "    logging.info(f\"NOW RUNNING: {current_function_name()} with seed list {seed_list}.\")\n",
    "\n",
    "    # create the object that will store all the associations found while parsing\n",
    "    # through the .json file ouputs from hit_monarch_api()\n",
    "    edges_list = list()\n",
    "    nodes_list = list()\n",
    "    global disease_name_label\n",
    "    global disease_id_label\n",
    "\n",
    "    # iterate through each seed\n",
    "    for seed in seed_list:\n",
    "        seed_new = seed.split(':')\n",
    "        seed_dir = seed_new[0]+'_'+seed_new[1]\n",
    "        seed_path = os.path.join(today_directory, f'{disease_name_label} ({date_str})', 'monarch', seed_dir)\n",
    "        \n",
    "        # run API calls (OUT and IN) for the given seed in the 'FOR' loop\n",
    "        if os.path.exists(seed_path):\n",
    "            out_json_path = os.path.join(seed_path, f'{seed_dir}_api_response_OUT.json')\n",
    "            in_json_path = os.path.join(seed_path, f'{seed_dir}_api_response_IN.json')\n",
    "            with open(out_json_path, 'r') as file:\n",
    "                r_out_json = json.load(file)\n",
    "            with open(in_json_path, 'r') as file:\n",
    "                r_in_json = json.load(file)\n",
    "            r_out = json_reverse(r_out_json)\n",
    "            r_in = json_reverse(r_in_json)\n",
    "            logging.info(f\"API call for {seed} already performed. Files fetched from {seed_path}.\")\n",
    "        else:\n",
    "            r_out, r_in, disease_id_label, disease_name_label = hit_monarch_api(seed)\n",
    "        \n",
    "        # .json file handling\n",
    "        for associations in [r_out.json()['items'], r_in.json()['items']]:\n",
    "            for association in associations:\n",
    "                \n",
    "                # parse through the files and store the associations in edges_list\n",
    "                subj = {'id': association['subject'], 'label': association['subject_label']}\n",
    "                rel = {'label': association['predicate']} # relation ID no longer present\n",
    "                obj = {'id': association['object'], 'label': association['object_label']}\n",
    "                notes = {'notes': layer}\n",
    "                ## reference (link to literature) no longer present\n",
    "                association_elem = [subj, rel, obj, notes]\n",
    "                edges_list.append(association_elem)\n",
    "\n",
    "                # extrapolate list of nodes (both subjects and objects) and store it in nodes_list\n",
    "                nodes_list.append(subj)\n",
    "                nodes_list.append(obj)\n",
    "\n",
    "    # filter for only unique nodes and edges\n",
    "    nodes_list = unique_elements(nodes_list)\n",
    "    edges_list = unique_elements(edges_list)\n",
    "\n",
    "    logging.info(f\"Sample of nodes (20): {nodes_list[:20]})\")\n",
    "    logging.info(f\"Sample of edges (10): {edges_list[:10]})\")\n",
    "    \n",
    "    # to fill in - and ADD LOG LINES\n",
    "    return nodes_list, edges_list, disease_id_label, disease_name_label"
   ]
  },
  {
   "cell_type": "markdown",
   "id": "10f16f38-1729-4302-8d52-10a2bfbec3b6",
   "metadata": {},
   "source": [
    "![](./PIPELINE_images/csv_columns.png)"
   ]
  },
  {
   "cell_type": "markdown",
   "id": "6d8e9659-5fae-4a49-9dd5-3d1f93bdacf5",
   "metadata": {},
   "source": [
    "Above the columns in the original output's from CR's and NQR's codes."
   ]
  },
  {
   "cell_type": "markdown",
   "id": "b43dfeb3-5c28-4762-97ab-3ab5881e0c60",
   "metadata": {},
   "source": [
    "Their original version was structured so that function ```get_neighbours_list()``` (input = seed list; output = list of neighbours) would call function ```get_neighbours()``` (input = seed list; output = set of neighbour nodes, set of neigbour edges) for each of the nodes in the list.\n",
    "\n",
    "Within that:\n",
    "\n",
    "1) The ```hit_monarch_api()``` function (input = node seed; output = r_out, r_in) would be run for:\n",
    "- the disease id if this is the first layer (single seed)\n",
    "- each of the node seeds in the second and third layer (multiple seeds)\n",
    "\n",
    "All following steps are part of the same iteration.\n",
    "\n",
    "2) The resulting ```r_out``` and ```r_in``` (i.e. response objects containing information in the API .json ouput) would then be parsed by ```get_edges_objects()``` (input = r_out, r_in; output = lists of subjects, relations, objects and references) to obtain information required to build edges –as well as links to publications. This step parses through each of the associations returned by the Monarch Initiative API by considering each of the ```items``` elements in both ```r_out.json()``` and ```r_in.json()``` one after the other to then extrapolate information corresponding to certain labels:\n",
    "   - ```association['subject']``` for the subject id, and ```association['subject_label']``` for its label\n",
    "   - ```association['predicate']``` for the relation id and label (duplicate)\n",
    "   - ```association['object']``` for the object id, and ```association['object_label']``` for its label\n",
    "   - ```association['publications']``` for the link to an annotated publication, if present\n",
    "<br>\n",
    "3) The edges are then obtained by running function ```get_edges()``` (input = lists of subjects, relations, objects and reference, and 'id' flag; output = set of list of edges), which iterates through elements in list of subjects –all lists from ```get_edges_objects()``` are the same lenght– to build a set of lists (of dictionaries) that can be summarised as this: **{('Subject1', 'hasPhenotype', 'Object1', 'Ref1'), ('Subject2', 'isOrthologOf', 'Object2', 'Ref2')}**.\n",
    "\n",
    "After these steps, the original code ran a few data allocation steps:\n",
    "\n",
    "4) Function ```keep_edges()``` (input = empty set of edges, edges dataframe ; output = set of edges) handles the edges in a Python set{} to only store unique edges and have no duplicates. The resulting set would only contain unique edges by adding edges at each iteration of ```get_neighbours()``` within ```get_neighbours_list()```.\n",
    "5) Function ```keep_nodes()``` (input = empty set of nodes, edges dataframe, set of seed nodes; output = set of nodes) takes into account the set obtained by the seed list as input for the ```get_neighbours()``` mother function. The result is the same as in keep_edges() a set of unique nodes, where nodes are added at each iteration.\n",
    "\n",
    "I made a ```unique_element()``` function that takes arguments with either dict-tuples (*i.e.* (id:label)) or lists of three items as elements. Based on the context whether nodes or edges it uses the correct approach –but since it's a very similar operation one function only is enough at this point. The original separate version would anyway be available in older **2024.0.__** commits. This function still makes sense as a standalone as it's very self-contained and would be used again later steps. <br>**{CHECK BASED ON noSQL DB: it might not be necessary}**\n",
    "\n",
    "This original version contemplated several sub-functions as they would also be used by macro-function ```get_orthopheno_list()``` (input = seed list; ouput = node list) which would also add a ```keep_node_type()``` step (input = edge list, seed list; ouput = __ of orthologs/phenotypes) that filters edges based on object nodes that only correspond to certain relational ontology type (i.e. RO: -either ortholog genes or phenotypes). Such step would be performed twice after each of two rounds of ```get_neighbours()```, once per ontology type. This is meant in order to have only phenotypes in the second layer, and ortholog genes in the third one.  \n",
    "\n",
    "These were some of the steps that would cause the most issues and prevent the tool from running, as they would filter out all edges for not meeting the identity requirements above. Moreover, they seemed conceptually unnecessary –if not wrong."
   ]
  },
  {
   "cell_type": "markdown",
   "id": "a56049b9-0818-4ad8-8697-9bee5a69c7d8",
   "metadata": {},
   "source": [
    "![](./PIPELINE_images/flowchart_placeholder.png)"
   ]
  },
  {
   "cell_type": "markdown",
   "id": "fa998416-87ce-411f-b384-d9ce29cd6e74",
   "metadata": {},
   "source": [
    "**My version of the code takes another approach**: by allowing it to perform each of the three layer steps we can avoid having too many functions –as they would not be re-used elsewhere.\n",
    "\n",
    "The overall function is still not overly complicated though thanks to focusing on **'IF' gates** that allow for slight changes in operation.\n",
    "\n",
    "This also allows to already store all information relevant for the **list of nodes** and **list of edges** that are the final outputs of the entire *Monarch.py* original script: I want to mantain the same data structure to then re-implement the original following steps."
   ]
  },
  {
   "cell_type": "markdown",
   "id": "49c29024-55bd-4549-bc68-82837469cdda",
   "metadata": {},
   "source": [
    "The original code also contempletated a **get_connections(nodes)** step that would fetch by subsequent (redundant) calls information on the nodes in the list. At some point a ```filter_edges()``` (input = list of nodes, list of edges; output = list of filtered edges) function, to only keep edges where both subject and object node are part of the node list outputed by each.\n",
    "\n",
    "This step seemed unnecessary to me, so I skipped it."
   ]
  },
  {
   "cell_type": "markdown",
   "id": "68c0c156-936d-4537-92c7-21d8cd1f7435",
   "metadata": {},
   "source": [
    "Below a test run of the ```get_neibours()``` function:"
   ]
  },
  {
   "cell_type": "code",
   "execution_count": null,
   "id": "82392ef8-6caa-4751-a3c0-b5234bf9c6c7",
   "metadata": {},
   "outputs": [],
   "source": [
    "input_seed = ['MONDO:0007739']  # required as a list\n",
    "firstLayer_nodes, firstLayer_edges, disease_id_label, disease_name_label = get_neighbours(input_seed)"
   ]
  },
  {
   "cell_type": "markdown",
   "id": "35aba3f6-e15d-4692-a53b-dff303b78cb1",
   "metadata": {},
   "source": [
    "Below a test to see how many elements are returned from the first run. Apparently both would return 32 elements, which is weird as I would expected ```nodes-1``` edges, as one of the nodes would be the initial input seed 'MONDO:0007739'."
   ]
  },
  {
   "cell_type": "code",
   "execution_count": null,
   "id": "ab9a94d3-d5a7-4c6e-af16-b48fca11bcaf",
   "metadata": {},
   "outputs": [],
   "source": [
    "print(len(firstLayer_nodes))"
   ]
  },
  {
   "cell_type": "code",
   "execution_count": null,
   "id": "d91f82ae-0496-467d-9376-47573814c4e8",
   "metadata": {},
   "outputs": [],
   "source": [
    "print(firstLayer_nodes)"
   ]
  },
  {
   "cell_type": "code",
   "execution_count": null,
   "id": "2ad00df7-8b0b-48be-8b82-d60077955311",
   "metadata": {},
   "outputs": [],
   "source": [
    "any(item['id'] == 'MONDO:0007739' for item in firstLayer_nodes)"
   ]
  },
  {
   "cell_type": "code",
   "execution_count": null,
   "id": "d47d935c-7205-4afe-8e43-bc25af83d2d9",
   "metadata": {},
   "outputs": [],
   "source": [
    "print(len(firstLayer_edges))"
   ]
  },
  {
   "cell_type": "code",
   "execution_count": null,
   "id": "d384c883-de35-4551-8b94-d21e170084cc",
   "metadata": {},
   "outputs": [],
   "source": [
    "print(firstLayer_edges)"
   ]
  },
  {
   "cell_type": "code",
   "execution_count": null,
   "id": "0fb903cf-ac83-4053-b258-2769069e15a6",
   "metadata": {},
   "outputs": [],
   "source": [
    "edges_without_mondo = [edge for edge in firstLayer_edges if not (edge[0].get('id', '') == 'MONDO:0007739' or edge[2].get('id', '') == 'MONDO:0007739')]\n",
    "edges_without_mondo"
   ]
  },
  {
   "cell_type": "markdown",
   "id": "f2cd70b8-2e5a-41a5-b264-8fc66897e168",
   "metadata": {},
   "source": [
    "Turns out that the extra edge comes from I guess the API considers as an 'alias' of 'MONDO:0007739': **'MONDO:0016621'**, which is the juvenile version of HD.\n",
    "\n",
    "I will not add a step that filters this edge out as:\n",
    "1) this edge is still relevant\n",
    "2) I assume the API would never return edges that are not meaningful\n",
    "   "
   ]
  },
  {
   "cell_type": "code",
   "execution_count": null,
   "id": "6171520e-b2fc-4435-8a2c-1bf17d207128",
   "metadata": {},
   "outputs": [],
   "source": [
    "edges_with_mondo_both = [edge for edge in firstLayer_edges if edge[0].get('id', '') == 'MONDO:0007739' and edge[2].get('id', '') == 'MONDO:0007739']\n",
    "edges_with_mondo_both"
   ]
  },
  {
   "cell_type": "markdown",
   "id": "59a598b4-6456-4821-a7af-a9e62e3cedc4",
   "metadata": {},
   "source": [
    "Below instead the final function for the ***Monarch.py*** step: this function summaries both ```run_monarch()``` and ```run_monarch_symptoms()``` functions from CR's original code: her flaskApp meant to ask to the user for the selection of one symptom only on which to build the network. I tried bypassing that and checking how much longer it would take to check for ALL symptoms (*i.e.* first layer of phenotypes)."
   ]
  },
  {
   "cell_type": "code",
   "execution_count": 6,
   "id": "469cc47b-c554-411b-9709-74ae005cebed",
   "metadata": {},
   "outputs": [],
   "source": [
    "def run_monarch(input_id = 'MONDO:0007739'):\n",
    "    \"\"\"\n",
    "    This function runs the whole Monarch script and saves nodes and edges files.\n",
    "\n",
    "    :param input_number: The input MONDO: URI  of the disease\n",
    "    :return: nodes and edges files in /monarch folder\n",
    "    \"\"\"\n",
    "    \n",
    "    logging.info(f\"NOW RUNNING: {current_function_name()} with seed {input_id}.\")\n",
    "\n",
    "    start_time = time.time()\n",
    "    \n",
    "    # First layer: use the flaskApp input\n",
    "    firstLayer_nodes, firstLayer_edges, disease_id_label, disease_name_label = get_neighbours(input_id,'first_layer')\n",
    "\n",
    "    # Second layer: use the nodes in the first layer\n",
    "    firstLayer_seeds = [item['id'] for item in firstLayer_nodes]  # turn into a list of IDs\n",
    "    firstLayer_seeds = [fl_id for fl_id in firstLayer_seeds if fl_id not in input_id]  # to avoid re-running nodes and counting them in the second layer\n",
    "    secondLayer_nodes, secondLayer_edges, disease_id_label, disease_name_label = get_neighbours(firstLayer_seeds,'second_layer')\n",
    "\n",
    "    # Third layer: use the nodes in the second layer\n",
    "    secondLayer_seeds = [item['id'] for item in secondLayer_nodes]  # turn into a list of IDs\n",
    "    secondLayer_seeds = [sl_id for sl_id in secondLayer_seeds if sl_id not in firstLayer_seeds]  # to avoid re-running nodes and counting them in the third layer\n",
    "    thirdLayer_nodes, thirdLayer_edges, disease_id_label, disease_name_label = get_neighbours(secondLayer_seeds,'third_layer')\n",
    "    \n",
    "    # MERGE the nodes' lists\n",
    "    nonUnique_nodes = firstLayer_nodes + secondLayer_nodes + thirdLayer_nodes\n",
    "    unique_nodes = unique_elements(nonUnique_nodes)\n",
    "    \n",
    "    # MERGE the edges' lists\n",
    "    nonUnique_edges = firstLayer_edges + secondLayer_edges + thirdLayer_edges\n",
    "    unique_edges = unique_elements(nonUnique_edges)\n",
    "    \n",
    "    # save the unique nodes and edges as CSV\n",
    "    monarch_directory = os.path.join(today_directory, f'{disease_name_label} ({date_str})', 'monarch')\n",
    "    nodes_df = pd.DataFrame(unique_nodes)\n",
    "    nodes_df.to_csv(os.path.join(monarch_directory, f'{disease_name_label}_{date_str}_monarch_nodes.csv'), index=False)\n",
    "    edges_df = pd.DataFrame(unique_edges)\n",
    "    edges_df.to_csv(os.path.join(monarch_directory, f'{disease_name_label}_{date_str}_monarch_edges.csv'), index=False)\n",
    "\n",
    "    logging.info(\"CSV files saved in Monarch directory.\")\n",
    "\n",
    "    end_time = time.time()\n",
    "    duration = end_time - start_time  # calculate duration in seconds\n",
    "    minutes = int(duration // 60)  # convert seconds to whole minutes\n",
    "    seconds = int(duration % 60)  # get the remaining seconds\n",
    "    print(f\"Run finished in {minutes} minutes and {seconds} seconds\")  # Print duration in minutes and seconds\n",
    "\n",
    "    return unique_nodes, unique_edges, disease_id_label, disease_name_label"
   ]
  },
  {
   "cell_type": "code",
   "execution_count": 7,
   "id": "41b2b639-a42b-4b67-b183-e342f7680987",
   "metadata": {},
   "outputs": [
    {
     "name": "stdout",
     "output_type": "stream",
     "text": [
      "Run finished in 0 minutes and 2 seconds\n"
     ]
    }
   ],
   "source": [
    "input_seed = ['MONDO:0007739']  # required as a list\n",
    "nodes, edges, disease_name_id, disease_name_label = run_monarch(input_seed)"
   ]
  },
  {
   "cell_type": "markdown",
   "id": "f9419d20-d041-4870-8923-68d3084045c9",
   "metadata": {},
   "source": [
    "**I ran the code above**: it made 594 unique calls (65MB dowloaded in 18min with a not-so-great connection): all duplicate calls were skipped. Below the number of edges and nodes in the 3-layered network for Huntington Disease."
   ]
  },
  {
   "cell_type": "code",
   "execution_count": 8,
   "id": "20fd90d4-914a-4e61-ab11-6a2877a107ea",
   "metadata": {},
   "outputs": [
    {
     "data": {
      "text/plain": [
       "12726"
      ]
     },
     "execution_count": 8,
     "metadata": {},
     "output_type": "execute_result"
    }
   ],
   "source": [
    "len(edges)"
   ]
  },
  {
   "cell_type": "code",
   "execution_count": 9,
   "id": "b0dab845-f725-4c62-a2bc-ab5cdb7bf383",
   "metadata": {},
   "outputs": [
    {
     "data": {
      "text/plain": [
       "7375"
      ]
     },
     "execution_count": 9,
     "metadata": {},
     "output_type": "execute_result"
    }
   ],
   "source": [
    "len(nodes)"
   ]
  },
  {
   "cell_type": "markdown",
   "id": "d673cda4-c896-4f4a-80a7-43b0fa818a3d",
   "metadata": {},
   "source": [
    "My next steps are:\n",
    "- **checking which of the node types might be un-necessary for this purpose** so that they can be ignored ahead of making API calls, to save time\n",
    "- attempting a data-visualisation line to show the network clusters (at least for the purpose of my thesis)"
   ]
  },
  {
   "cell_type": "code",
   "execution_count": null,
   "id": "22e51d86-e1bb-41e0-8d2d-b2d23bbf5de1",
   "metadata": {},
   "outputs": [],
   "source": [
    "print(nodes[:20])"
   ]
  },
  {
   "cell_type": "code",
   "execution_count": 10,
   "id": "b1661701-f8fc-4f67-8758-66049433edf6",
   "metadata": {},
   "outputs": [
    {
     "name": "stdout",
     "output_type": "stream",
     "text": [
      "{'Reactome', 'HP', 'SGD', 'Xenbase', 'HGNC', 'GO', 'FB', 'CL', 'SO', 'NCBITaxon', 'MP', 'WB', 'PomBase', 'OBA', 'CHEBI', 'PATO', 'ZFIN', 'PR', 'CHR', 'MGI', 'ECTO', 'RGD', 'dictyBase', 'NCBIGene', 'UPHENO', 'MONDO', 'UBERON'}\n"
     ]
    }
   ],
   "source": [
    "unique_URItype = set()\n",
    "for node in nodes:\n",
    "    if 'id' in node:\n",
    "        URI = node['id'].split(':')[0] \n",
    "        unique_URItype.add(URI)\n",
    "print(unique_URItype)"
   ]
  },
  {
   "cell_type": "markdown",
   "id": "f079b618-5fee-445a-bd93-51bfed040ffc",
   "metadata": {},
   "source": [
    "Above all the URI types found within these three layers:\n",
    "- NCBItaxon: Taxonomic data from the NCBI Taxonomy database, used for species\n",
    "- FB: FlyBase identifier for Drosophila genes and genetic information\n",
    "- MGI: Mouse Genome Informatics for mouse genetic information\n",
    "- Xenbase: Xenopus biology database for African clawed frog genetic and developmental data\n",
    "- **MP**: Mammalian Phenotype Ontology, describing phenotypic abnormalities in mammals\n",
    "- **CL**: Cell Ontology, used for cell type definitions\n",
    "- SGD: Saccharomyces Genome Database for yeast genetics and biology\n",
    "- ZFIN: Zebrafish Information Network for zebrafish genetic and developmental information\n",
    "- dictyBase: Resource for Dictyostelid species genetics and cell biology\n",
    "- **CHEBI**: Chemical Entities of Biological Interest, a database of molecular entities focused on 'small' chemical compounds\n",
    "- PomBase: Resource for genetic information on the fission yeast Schizosaccharomyces pombe\n",
    "- ECTO: Exposure Ontology, describing types of exposure to environmental entities\n",
    "- **CHR**: Chromosome Ontology, for specifying chromosome parts and structures\n",
    "- PATO: Phenotypic Quality Ontology, describing how phenotypes are qualitatively altered\n",
    "- **NCBIgene**: Gene identifiers from the NCBI gene database\n",
    "- WB: WormBase, providing genetic and biological data for Caenorhabditis elegans and related nematodes\n",
    "- **SO**: Sequence Ontology, which provides a set of terms and relationships used to describe the features and attributes of biological sequence\n",
    "- **GO**: Gene Ontology, provides a controlled vocabulary to describe gene and gene product attributes in any organism\n",
    "- **OBA**: Ontology for Biomedical Associations, used to specify associations in biomedical contexts\n",
    "- **UPHENO**: Unified Phenotype Ontology, integrating multiple phenotype ontologies across different species\n",
    "- RGD: Rat Genome Database, provides genetic and phenotypic data for Rattus norvegicus\n",
    "- **HP**: Human Phenotype Ontology, describing phenotypic abnormalities found in human disease\n",
    "- **HGNC**: HUGO Gene Nomenclature Committee, providing a unique identifier for human genes\n",
    "- PR: Protein Ontology, provides structured classification of proteins and their relationships\n",
    "- UBERON: Multi-species anatomy ontology, covering anatomical structures in multiple animal species\n",
    "- **MONDO**: Monarch Disease Ontology, integrates multiple sources of disease data to provide unified disease definitions\n",
    "- **Reactome**: A database of reactions, pathways, and biological processes\n",
    "\n",
    "In **bold** those I deem relevant candidates, although probably only ```HGNC:``` and ```HP:``` should be considered respectively for genes and phenotypes. "
   ]
  },
  {
   "cell_type": "code",
   "execution_count": 11,
   "id": "6aa6ae47-0834-48f9-b25b-c11228a6a394",
   "metadata": {},
   "outputs": [
    {
     "name": "stdout",
     "output_type": "stream",
     "text": [
      "{'MONDO': 1332, 'HGNC': 3020, 'HP': 1342, 'CHEBI': 578, 'Reactome': 102, 'MGI': 117, 'NCBIGene': 118, 'RGD': 46, 'GO': 323, 'UBERON': 107, 'WB': 64, 'UPHENO': 66, 'ZFIN': 42, 'FB': 47, 'NCBITaxon': 9, 'PATO': 6, 'CL': 12, 'PR': 4, 'PomBase': 5, 'Xenbase': 14, 'CHR': 2, 'dictyBase': 7, 'SGD': 3, 'MP': 4, 'ECTO': 3, 'SO': 1, 'OBA': 1}\n"
     ]
    }
   ],
   "source": [
    "URI_counts = {}\n",
    "for node in nodes:\n",
    "    if 'id' in node:\n",
    "        URI = node['id'].split(':')[0]\n",
    "        if URI in URI_counts:\n",
    "            URI_counts[URI] += 1\n",
    "        else:\n",
    "            URI_counts[URI] = 1\n",
    "print(URI_counts)"
   ]
  },
  {
   "cell_type": "markdown",
   "id": "452180cb-eebb-47dc-9c67-3536625e9867",
   "metadata": {},
   "source": [
    "In comparison CR's output for nodes has this URI distribution:"
   ]
  },
  {
   "cell_type": "code",
   "execution_count": 12,
   "id": "61fe4947-53f1-4847-9c0e-eb1eb3844fe0",
   "metadata": {},
   "outputs": [
    {
     "name": "stdout",
     "output_type": "stream",
     "text": [
      "{'MGI': 84, 'MONDO': 2, 'HGNC': 17, 'HP': 68, 'dbSNPIndividual': 9, 'ClinVarVariant': 3, 'REACT': 1, 'dbSNP': 22, 'ENSEMBL': 4, 'WormBase': 2, 'ZFIN': 4, 'FlyBase': 2}\n"
     ]
    }
   ],
   "source": [
    "URI_counts = {}\n",
    "CR_df = pd.read_csv('./drugapp/data/reference/Huntington disease (2022-06-27)/monarch/monarch_nodes_disease_v2022-06-27.csv')\n",
    "if 'id' in CR_df.columns:\n",
    "    CR_nodes = CR_df['id'].tolist()\n",
    "for node in CR_nodes:\n",
    "    URI = node.split(':')[0]\n",
    "    if URI in URI_counts:\n",
    "        URI_counts[URI] += 1\n",
    "    else:\n",
    "        URI_counts[URI] = 1\n",
    "print(URI_counts)"
   ]
  },
  {
   "cell_type": "markdown",
   "id": "1215651f-4f9a-45b7-a34c-6b457ea5a7f9",
   "metadata": {},
   "source": [
    "The current version of the code will keep all nodes currently found, although changes in the code by accessing other tools in the API (*e.g.* ```v3/api/entity/{id}/{category}``` to only find associations to a given seed –both IN and OUT– that correspond to a certain category, such as 'phenotype') and **filtering only for certain categories** –and not just certain URIs– **at each layer**.\n",
    "\n",
    "This could be done by implementing a whitelist of accepted URIs –or a blacklist of discarded ones. So far we will keep all of them to have the widest array of information of possible. In the end the information we require are in nodes with URI ```MONDO:```, ```HGNC:``` and ```HP:```, but by having also other URIs when building the three layer we can reach certain genes and phenotypes that would always not directly associate.\n",
    "\n",
    "Below a visual representation of the network (takes about 2min):"
   ]
  },
  {
   "cell_type": "code",
   "execution_count": 13,
   "id": "52c53514-2e8c-4bf2-ae08-0c57cb846451",
   "metadata": {},
   "outputs": [
    {
     "data": {
      "image/png": "[encoded data removed]",
      "text/plain": [
       "<Figure size 640x480 with 1 Axes>"
      ]
     },
     "metadata": {},
     "output_type": "display_data"
    }
   ],
   "source": [
    "logging.getLogger().setLevel(logging.WARNING)  # logging SILENCED\n",
    "\n",
    "G = nx.DiGraph()\n",
    "for edge in edges:\n",
    "    subj_id = edge[0]['id']\n",
    "    obj_id = edge[2]['id']\n",
    "    rel_label = edge[1]['label']\n",
    "    G.add_edge(subj_id, obj_id, label=rel_label)\n",
    "\n",
    "pos = nx.spring_layout(G)\n",
    "labels = {node: node for node in G.nodes()}\n",
    "nx.draw(G, pos, with_labels=False, node_color='skyblue',\n",
    "        node_size=10, edge_color='k', width=0.5)\n",
    "plt.show()\n",
    "\n",
    "logging.getLogger().setLevel(logging.DEBUG)"
   ]
  },
  {
   "cell_type": "markdown",
   "id": "07931d17-1f82-47b1-bdd1-0807aebf1cd6",
   "metadata": {},
   "source": [
    "## 3. DGIdb.py"
   ]
  },
  {
   "cell_type": "markdown",
   "id": "2e3a33ca-16ed-4a35-a52c-228ee30ef52d",
   "metadata": {},
   "source": [
    "This section **matches genes** in the nodes obtained from the previous steps **to drugs** via the DGIdb (*i.e* Drug-gene interaction database).\n",
    "\n",
    "CR's original version would load the dataframe for the edges from the .csv files created in the previous step based on the current date alone –I instead changed the main ```run_dgidb()``` (input = date; output = lists of nodes and edges matched with drugs) function so that it takes both input seed and date to determine which folder to access.\n",
    "\n",
    "The nodes list is then parsed through the ```get_genes()``` (input = full nodes list; output = gene-only nodes list) function that retrieves the list of genes only –based on the condition for URIs to contain 'HGNC:' and few other ontologies. Then the list of gene-only node is matched against the ENTREZ database (*i.e.* ```normlize_genes_to_graph()``` (input = gene-only node list; output = same list with ENTREZ ids)) to use that as a seed for DGIdb via ```hit_dgidb_api()``` (input = gene-id list; output = gene-to-drug edges list)."
   ]
  },
  {
   "cell_type": "markdown",
   "id": "79f0caa9-7936-4777-a88b-8b811c11ab18",
   "metadata": {},
   "source": [
    "![](./PIPELINE_images/dgidb.png)"
   ]
  },
  {
   "cell_type": "markdown",
   "id": "eee84ab1-6af9-4424-9a9c-017947d3a396",
   "metadata": {},
   "source": [
    "Finally the resulting list of edges with information from both Monarch and DGIdb APIs would be converted in a dictionary, stored as an intermediate to then make new calls to add metadata –a step which I completely skipped again as many errors would arise and such information are not necessary at this point. "
   ]
  },
  {
   "cell_type": "markdown",
   "id": "bb586250-836c-485f-bbb0-4beb4b45c499",
   "metadata": {},
   "source": [
    "My approach focuses instead on first building the **```hit_dgidb_api()```** to make calls for one node at a time –node that belongs to category ```gene```. Therefore it would return the corresponding association edges for drugs related to that given gene."
   ]
  },
  {
   "cell_type": "code",
   "execution_count": 14,
   "id": "1ff08f97-ab11-44c1-986a-6efac10595b4",
   "metadata": {},
   "outputs": [],
   "source": [
    "def get_entrez(nonENTREZ_seed):\n",
    "    \"\"\"\n",
    "    This function performs API calls to DGIdb to retrieve OUT and IN edges\n",
    "    from a query node (i.e. gene).\n",
    "\n",
    "    :param ENTREZ_seed: single ENTREZ ID for a gene.\n",
    "    :param rows: the maximum number of results to return (integer). Default: 2000.\n",
    "    :return: an api response objects.\n",
    "    \"\"\"\n",
    "\n",
    "    mg = get_client('gene')\n",
    "\n",
    "    qterm_label = nonENTREZ_seed.split(':')[1]\n",
    "    namespace = nonENTREZ_seed.split(':')[0].lower()\n",
    "    scopes_label = []\n",
    "    \n",
    "    if 'flybase' == namespace:\n",
    "        scopes_label = ['flybase']\n",
    "    elif 'wormbase' == namespace:\n",
    "        scopes_label = ['wormbase']\n",
    "    elif 'mgi' == namespace:\n",
    "        qterm_label = 'MGI:' + qterm_label  # prefix required for 'MGI' IDs\n",
    "        scopes_label = ['mgi']\n",
    "    elif 'hgnc' == namespace:\n",
    "        scopes_label = ['hgnc']\n",
    "    elif 'ensembl' == namespace:\n",
    "        scopes_label = ['ensembl.gene']\n",
    "    elif 'zfin' == namespace:\n",
    "        scopes_label = ['zfin']\n",
    "    else:\n",
    "        logging.info(\"Unsupported namespace for gene ID conversion.\")\n",
    "        return None\n",
    "        \n",
    "    try:\n",
    "        ENTREZ_seed = mg.querymany(qterms = qterm_label,\n",
    "                                       scopes = scopes_label,\n",
    "                                       fields = 'entrezgene',\n",
    "                                       size = 1)\n",
    "        if ENTREZ_seed:\n",
    "            return ENTREZ_seed[0]['entrezgene'] if 'entrezgene' in ENTREZ_seed[0] else None\n",
    "    except Exception as e:\n",
    "        logging.error(f\"API call failed for {qterm_label} with error: {e}\")\n",
    "    \n",
    "    return None\n",
    "\n",
    "\n",
    "def hit_dgidb_api(ENTREZ_seed, rows = 2000):\n",
    "    \"\"\"\n",
    "    This function performs API calls to DGIdb to retrieve OUT and IN edges\n",
    "    from a query node (i.e. gene).\n",
    "\n",
    "    :param ENTREZ_seed: single ENTREZ ID for a gene.\n",
    "    :param rows: the maximum number of results to return (integer). Default: 2000.\n",
    "    :return: an api response objects.\n",
    "    \"\"\"\n",
    "\n",
    "    logging.info(f\"NOW RUNNING: {current_function_name()} with seed {ENTREZ_seed})'.\")\n",
    "\n",
    "    # load strings required for path location\n",
    "    global disease_name_label\n",
    "    global disease_id_label\n",
    "    \n",
    "    dgidb_directory = os.path.join(today_directory, f'{disease_name_label} ({date_str})','dgidb')\n",
    "    if not os.path.isdir(dgidb_directory):\n",
    "        os.makedirs(dgidb_directory)\n",
    "    \n",
    "    # API address and parameters\n",
    "    dgibd_link = 'https://dgidb.org/api/v2/interactions.json?'\n",
    "    parameters = {'fl_excludes_evidence': False, 'rows': rows}\n",
    "    \n",
    "    # API call\n",
    "    r_drugs = requests.get(f'{dgibd_link}{ENTREZ_seed}',params=parameters)\n",
    "    logging.info(f\"Drug request URL: {dgibd_link} with parameters {parameters}\")\n",
    "    logging.info(f\"In edges response status: {r_drugs.status_code}\")\n",
    "\n",
    "    # Error Handling for API responses\n",
    "    if not r_drugs.ok:\n",
    "        error_message = f\"Error fetching data for seed {ENTREZ_seed}: status {r_drugs.status_code}\"\n",
    "        logging.error(error_message)\n",
    "        # Handle error appropriately, could raise an exception or return an error code\n",
    "        raise Exception(error_message)\n",
    "\n",
    "    # store DRUGS .json file\n",
    "    ENTREZ_new = ENTREZ_seed.split('=')\n",
    "    ENTREZ_dir = ENTREZ_new[0]+'_'+ENTREZ_new[1]\n",
    "    drug_seed_directory = os.path.join(dgidb_directory, ENTREZ_dir)\n",
    "    os.makedirs(drug_seed_directory, exist_ok=True)\n",
    "    drugs_file_path = os.path.join(drug_seed_directory, f'{ENTREZ_dir}_api_response.json')\n",
    "    if r_drugs.ok:\n",
    "        with open(drugs_file_path, 'w') as json_file:\n",
    "            json.dump(r_drugs.json(), json_file)\n",
    "        logging.info(f\"API response saved to {drugs_file_path}\")\n",
    "    else:\n",
    "        logging.error(f\"Failed to fetch IN edges: {r_drugs.status_code} - {r_drugs.reason}\")\n",
    "\n",
    "    return r_drugs"
   ]
  },
  {
   "cell_type": "markdown",
   "id": "e85a0fb1-1406-4ddb-b4ac-3c7c48fb8349",
   "metadata": {},
   "source": [
    "Below a test-call for the DGIdb API:"
   ]
  },
  {
   "cell_type": "code",
   "execution_count": null,
   "id": "dcd7d754-0fb8-48a4-b94c-47e4700dd97b",
   "metadata": {},
   "outputs": [],
   "source": [
    "r_drugs = hit_dgidb_api('genes=HTT')"
   ]
  },
  {
   "cell_type": "markdown",
   "id": "a942e3c0-f209-4cd3-befb-3cb1f50093a4",
   "metadata": {},
   "source": [
    "And below a test-call for the ENTREZ conversion both via the appropriate ```get_entrez()``` function and directly:"
   ]
  },
  {
   "cell_type": "code",
   "execution_count": 15,
   "id": "270a7a89-a2e5-450d-a01d-0c380182e16c",
   "metadata": {},
   "outputs": [
    {
     "name": "stdout",
     "output_type": "stream",
     "text": [
      "ENTREZ id: 51440\n"
     ]
    }
   ],
   "source": [
    "node = {'id':'HGNC:18212','label':'HPCAL4'}\n",
    "nonENTREZ_seed = node['id']\n",
    "ENTREZ_seed = get_entrez(nonENTREZ_seed)\n",
    "print(f\"ENTREZ id: {ENTREZ_seed}\")"
   ]
  },
  {
   "cell_type": "code",
   "execution_count": 16,
   "id": "2d63a8c1-b723-4c8e-b1c6-cb03d72cb137",
   "metadata": {},
   "outputs": [
    {
     "name": "stdout",
     "output_type": "stream",
     "text": [
      "[{'query': '18212', '_id': '51440', '_score': 16.270744, 'entrezgene': '51440'}]\n"
     ]
    }
   ],
   "source": [
    "print(get_client('gene').querymany(qterms = '18212',\n",
    "                                       scopes = 'hgnc',\n",
    "                                       fields = 'entrezgene',\n",
    "                                       size = 1))"
   ]
  },
  {
   "cell_type": "markdown",
   "id": "014a3369-20fd-4ed5-8094-26c252423dd2",
   "metadata": {},
   "source": [
    "Then I developed a wrapper function **```run_dgidb()```** that based on both ```input_seed``` from the rest of the pipeline and date (object ```today``` set at the beginning) retrieves the appropriate nodes and edges list files –although here in this notebook that section will be commented out as such variables are already present in the global workspace– to then iterate through the nodes in the node list file to get all the edges between genes and drugs –after filtering within the function to extrapolate the appropriate subset of gene-only nodes, and calling for subfunction ```get_entrez()``` to retrieve the equivalent 'ENTREZ' id, each node is parsed through ```hit_dgidb_api()```.\n",
    "\n",
    "The resulting edges are appended to the existing ```edges``` object, while the ```nodes``` object is overwritten by listing all nodes in the resulting edges list: only unique edges and nodes are kept –by using the same ```get_unique()``` function from the 'Monarch.py' section.\n",
    "\n",
    "This approach allows for a more straightforward pipeline."
   ]
  },
  {
   "cell_type": "code",
   "execution_count": 35,
   "id": "2e2e511e-ad64-4d34-b44b-5a4536a86680",
   "metadata": {},
   "outputs": [],
   "source": [
    "def run_dgidb(monarch_input,date):\n",
    "    \"\"\"\n",
    "    This function runs the whole DGIdb script and saves nodes and edges files.\n",
    "    :param date: the input seed from the run_monarch() step and the date of\n",
    "    creation of the disease graph\n",
    "    :return: nodes and edges files in /DGIdb folder\n",
    "    \"\"\"\n",
    "\n",
    "    start_time = time.time()\n",
    "    \n",
    "    logging.info(f\"NOW RUNNING: {current_function_name()} following 'run_monarch({monarch_input})'.\")\n",
    "\n",
    "    global nodes\n",
    "    global edges\n",
    "\n",
    "    dgidb_directory = os.path.join(today_directory, f'{disease_name_label} ({date_str})', 'dgidb')\n",
    "    \n",
    "    # initialise gene-to-drug list\n",
    "    drug_edges = []\n",
    "\n",
    "    for node in nodes:\n",
    "        ENTREZ_id = get_entrez(node['id'])\n",
    "        if ENTREZ_id:\n",
    "            entrez_dir = os.path.join(dgidb_directory, f'genes_{ENTREZ_id}')\n",
    "            if os.path.exists(entrez_dir):\n",
    "                # Assuming there's a specific file you read from\n",
    "                with open(os.path.join(entrez_dir, f'genes_{ENTREZ_id}_api_response.json'), 'r') as file:\n",
    "                    drug_data = json.load(file)\n",
    "                logging.info(f\"Data for ENTREZ ID: {ENTREZ_id} fetched from local storage.\")\n",
    "            else:\n",
    "                try:\n",
    "                    r_drugs = hit_dgidb_api(f'genes={ENTREZ_id}')\n",
    "                    if r_drugs.ok:\n",
    "                        drug_data = r_drugs.json()\n",
    "                        if drug_data:\n",
    "                            # Save this response locally for future use\n",
    "                            if not os.path.exists(entrez_dir):\n",
    "                                os.makedirs(entrez_dir)\n",
    "                            with open(os.path.join(entrez_dir, f'genes_{ENTREZ_id}_api_response.json'), 'w') as file:\n",
    "                                json.dump(drug_data, file)\n",
    "                            for key in ['ambiguousTerms', 'matchedTerms', 'unmatchedTerms']:\n",
    "                                terms = drug_data.get(key, [])\n",
    "                                for term in terms:\n",
    "                                    interactions = term.get('interactions', [])\n",
    "                                    for interaction in interactions:\n",
    "                                        drug_node = {'id': interaction['drugConceptId'], 'label': interaction['drugName']}\n",
    "                                        relation = {'label': 'dgidb:interacts_with'}\n",
    "                                        notes = {'notes': key}\n",
    "                                        drug_edges.append((node, relation, drug_node, notes))\n",
    "                        else:\n",
    "                            logging.info(f\"No drug data returned for ENTREZ ID: {ENTREZ_id}\")\n",
    "                except Exception as e:\n",
    "                    logging.error(f\"Failed to process drug interactions for {node['id']}: {str(e)}\")\n",
    "\n",
    "    # MERGE new edges with the existing ones\n",
    "    all_edges = edges + drug_edges\n",
    "    unique_edges = unique_elements(all_edges)  # they should already be unique\n",
    "\n",
    "    # EXTRACT nodes from edges\n",
    "    all_nodes = [edge[0] for edge in unique_edges] + [edge[2] for edge in unique_edges]\n",
    "    unique_nodes = unique_elements(all_nodes)\n",
    "\n",
    "    # save the unique nodes and edges as CSV\n",
    "    nodes_df = pd.DataFrame(unique_nodes)\n",
    "    nodes_df.to_csv(os.path.join(dgidb_directory, f'{disease_name_label}_{date_str}_dgidb_nodes.csv'), index=False)\n",
    "    edges_df = pd.DataFrame(unique_edges)\n",
    "    edges_df.to_csv(os.path.join(dgidb_directory, f'{disease_name_label}_{date_str}_dgidb_edges.csv'), index=False)\n",
    "\n",
    "    logging.info(\"CSV files saved in DGIdb directory.\")\n",
    "\n",
    "    end_time = time.time()\n",
    "    duration = end_time - start_time  # calculate duration in seconds\n",
    "    minutes = int(duration // 60)  # convert seconds to whole minutes\n",
    "    seconds = int(duration % 60)  # get the remaining seconds\n",
    "    print(f\"Run finished in {minutes} minutes and {seconds} seconds\")  # Print duration in minutes and seconds\n",
    "    \n",
    "    return unique_nodes, unique_edges"
   ]
  },
  {
   "cell_type": "markdown",
   "id": "9ea74062-0d49-4b6d-bacf-d0ef5ed3409c",
   "metadata": {},
   "source": [
    "Within the pipeline object names are re-used to avoid overhead, but each step is meticulously stored in .csv files so that each step can be thoroughly analysed."
   ]
  },
  {
   "cell_type": "code",
   "execution_count": 31,
   "id": "92cb711b-ffa5-4396-9a9e-0a1a80b7ed7f",
   "metadata": {},
   "outputs": [
    {
     "name": "stderr",
     "output_type": "stream",
     "text": [
      "2024-05-03 15:00:31,289 - root - ERROR - Failed to process drug interactions for MGI:1926089: 'str' object has no attribute 'get'\n",
      "2024-05-03 15:01:53,400 - root - ERROR - Failed to process drug interactions for HGNC:644: ('Connection aborted.', RemoteDisconnected('Remote end closed connection without response'))\n",
      "2024-05-03 15:12:16,704 - root - ERROR - Failed to process drug interactions for MGI:95757: 'str' object has no attribute 'get'\n",
      "2024-05-03 15:45:34,506 - root - ERROR - Failed to process drug interactions for HGNC:2637: ('Connection aborted.', RemoteDisconnected('Remote end closed connection without response'))\n",
      "2024-05-03 16:02:52,212 - root - ERROR - Failed to process drug interactions for MGI:1914497: 'str' object has no attribute 'get'\n",
      "2024-05-03 16:09:03,018 - root - ERROR - Failed to process drug interactions for MGI:107678: 'str' object has no attribute 'get'\n",
      "2024-05-03 16:10:10,119 - root - ERROR - Failed to process drug interactions for MGI:1277959: 'str' object has no attribute 'get'\n",
      "2024-05-03 16:22:31,846 - root - ERROR - Failed to process drug interactions for MGI:2653235: 'str' object has no attribute 'get'\n"
     ]
    },
    {
     "name": "stdout",
     "output_type": "stream",
     "text": [
      "Run finished in 117 minutes and 42 seconds\n"
     ]
    }
   ],
   "source": [
    "nodes, edges = run_dgidb(input_seed,today)"
   ]
  },
  {
   "cell_type": "code",
   "execution_count": 32,
   "id": "7511ffe4-ac7e-46d7-9727-4e6c1ac95903",
   "metadata": {},
   "outputs": [
    {
     "data": {
      "text/plain": [
       "16576"
      ]
     },
     "execution_count": 32,
     "metadata": {},
     "output_type": "execute_result"
    }
   ],
   "source": [
    "len(edges)"
   ]
  },
  {
   "cell_type": "code",
   "execution_count": 33,
   "id": "4ba94d5f-1563-49ce-9a52-82e7028005dd",
   "metadata": {},
   "outputs": [
    {
     "data": {
      "text/plain": [
       "9975"
      ]
     },
     "execution_count": 33,
     "metadata": {},
     "output_type": "execute_result"
    }
   ],
   "source": [
    "len(nodes)"
   ]
  },
  {
   "cell_type": "code",
   "execution_count": 34,
   "id": "a30e8e9e-7497-4b1d-8c24-4b10985e56af",
   "metadata": {},
   "outputs": [
    {
     "name": "stdout",
     "output_type": "stream",
     "text": [
      "{'MONDO': 1332, 'HGNC': 3020, 'HP': 1342, 'CHEBI': 578, 'chembl': 2582, 'Reactome': 102, 'MGI': 117, 'NCBIGene': 118, 'RGD': 46, 'GO': 323, 'UBERON': 107, 'WB': 64, 'UPHENO': 66, 'ZFIN': 42, 'FB': 47, 'wikidata': 18, 'NCBITaxon': 9, 'PATO': 6, 'CL': 12, 'PR': 4, 'PomBase': 5, 'Xenbase': 14, 'CHR': 2, 'dictyBase': 7, 'SGD': 3, 'MP': 4, 'ECTO': 3, 'SO': 1, 'OBA': 1}\n"
     ]
    }
   ],
   "source": [
    "URI_counts = {}\n",
    "for node in nodes:\n",
    "    if 'id' in node:\n",
    "        URI = node['id'].split(':')[0]\n",
    "        if URI in URI_counts:\n",
    "            URI_counts[URI] += 1\n",
    "        else:\n",
    "            URI_counts[URI] = 1\n",
    "print(URI_counts)"
   ]
  },
  {
   "cell_type": "code",
   "execution_count": null,
   "id": "b4f08391-e4bb-463e-af3e-f6fee4c96924",
   "metadata": {},
   "outputs": [],
   "source": []
  },
  {
   "cell_type": "code",
   "execution_count": null,
   "id": "b42333aa-6794-430c-8977-0519348e3b06",
   "metadata": {},
   "outputs": [],
   "source": []
  },
  {
   "cell_type": "code",
   "execution_count": null,
   "id": "20745820-cd07-45ca-8520-92c2305ded9e",
   "metadata": {},
   "outputs": [],
   "source": []
  },
  {
   "cell_type": "code",
   "execution_count": null,
   "id": "aa5e100b-a6b9-4bb5-98de-3086d90c015c",
   "metadata": {},
   "outputs": [],
   "source": []
  },
  {
   "cell_type": "code",
   "execution_count": null,
   "id": "0e365269-1a30-4658-aaf3-331a1e4222c5",
   "metadata": {},
   "outputs": [],
   "source": []
  },
  {
   "cell_type": "code",
   "execution_count": null,
   "id": "f718bae7-b203-4f4c-af11-14fea1fe58c3",
   "metadata": {},
   "outputs": [],
   "source": []
  },
  {
   "cell_type": "markdown",
   "id": "351d5734-78d2-4a81-a88b-c1a51fc4c917",
   "metadata": {},
   "source": []
  }
 ],
 "metadata": {
  "kernelspec": {
   "display_name": "Python 3 (ipykernel)",
   "language": "python",
   "name": "python3"
  },
  "language_info": {
   "codemirror_mode": {
    "name": "ipython",
    "version": 3
   },
   "file_extension": ".py",
   "mimetype": "text/x-python",
   "name": "python",
   "nbconvert_exporter": "python",
   "pygments_lexer": "ipython3",
   "version": "3.11.9"
  }
 },
 "nbformat": 4,
 "nbformat_minor": 5
}
